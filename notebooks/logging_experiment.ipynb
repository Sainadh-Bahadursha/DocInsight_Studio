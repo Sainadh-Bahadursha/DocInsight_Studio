{
 "cells": [
  {
   "cell_type": "code",
   "execution_count": 30,
   "id": "f6cc0388",
   "metadata": {},
   "outputs": [
    {
     "name": "stdout",
     "output_type": "stream",
     "text": [
      "all ok\n"
     ]
    }
   ],
   "source": [
    "print(\"all ok\")"
   ]
  },
  {
   "cell_type": "code",
   "execution_count": 31,
   "id": "f4c51b54",
   "metadata": {},
   "outputs": [],
   "source": [
    "import logging\n",
    "import os\n",
    "from datetime import datetime"
   ]
  },
  {
   "cell_type": "code",
   "execution_count": 32,
   "id": "0997de7f",
   "metadata": {},
   "outputs": [
    {
     "data": {
      "text/plain": [
       "'c:\\\\Users\\\\saina\\\\Desktop\\\\DS_ML_AI\\\\Krish_Naik_Courses\\\\Krish_Naik_LLMOPS\\\\practice\\\\git\\\\document_portal\\\\notebooks\\\\logs'"
      ]
     },
     "execution_count": 32,
     "metadata": {},
     "output_type": "execute_result"
    }
   ],
   "source": [
    "os.path.join(os.getcwd(),\"logs\")"
   ]
  },
  {
   "cell_type": "code",
   "execution_count": 33,
   "id": "86e29277",
   "metadata": {},
   "outputs": [],
   "source": [
    "logs_dir = os.path.join(os.getcwd(),\"logs\")\n",
    "os.makedirs(logs_dir,exist_ok = True)"
   ]
  },
  {
   "cell_type": "code",
   "execution_count": 34,
   "id": "61d403dc",
   "metadata": {},
   "outputs": [],
   "source": [
    "LOG_FILE = f\"{datetime.now().strftime('%m_%d_%Y_%H_%M_%S.log')}\""
   ]
  },
  {
   "cell_type": "code",
   "execution_count": 35,
   "id": "1f22e095",
   "metadata": {},
   "outputs": [
    {
     "data": {
      "text/plain": [
       "'07_26_2025_16_26_59.log'"
      ]
     },
     "execution_count": 35,
     "metadata": {},
     "output_type": "execute_result"
    }
   ],
   "source": [
    "LOG_FILE"
   ]
  },
  {
   "cell_type": "code",
   "execution_count": 36,
   "id": "3fb16f73",
   "metadata": {},
   "outputs": [
    {
     "data": {
      "text/plain": [
       "'c:\\\\Users\\\\saina\\\\Desktop\\\\DS_ML_AI\\\\Krish_Naik_Courses\\\\Krish_Naik_LLMOPS\\\\practice\\\\git\\\\document_portal\\\\notebooks\\\\logs\\\\07_26_2025_16_26_59.log'"
      ]
     },
     "execution_count": 36,
     "metadata": {},
     "output_type": "execute_result"
    }
   ],
   "source": [
    "os.path.join(logs_dir,LOG_FILE)"
   ]
  },
  {
   "cell_type": "code",
   "execution_count": 37,
   "id": "832dd92e",
   "metadata": {},
   "outputs": [],
   "source": [
    "LOG_FILE_PATH = os.path.join(logs_dir,LOG_FILE)"
   ]
  },
  {
   "cell_type": "code",
   "execution_count": 38,
   "id": "072ba099",
   "metadata": {},
   "outputs": [],
   "source": [
    "logging.basicConfig(\n",
    "    filename=LOG_FILE_PATH,\n",
    "    format=\"[ %(asctime)s ] %(levelname)s %(name)s (line:%(lineno)d) - %(message)s\",\n",
    "    level = logging.INFO,\n",
    ")"
   ]
  },
  {
   "cell_type": "code",
   "execution_count": 39,
   "id": "9d8bf71a",
   "metadata": {},
   "outputs": [],
   "source": [
    "logger = logging.getLogger(\"DocumentPortal\")"
   ]
  },
  {
   "cell_type": "code",
   "execution_count": 40,
   "id": "f5698538",
   "metadata": {},
   "outputs": [],
   "source": [
    "logger.info(\"This is an info message\")"
   ]
  },
  {
   "cell_type": "markdown",
   "id": "9a9df608",
   "metadata": {},
   "source": [
    "# Struct log"
   ]
  },
  {
   "cell_type": "markdown",
   "id": "c4d6c4c1",
   "metadata": {},
   "source": [
    "to get the log in specific structure like json, csv etc.,"
   ]
  },
  {
   "cell_type": "code",
   "execution_count": 28,
   "id": "d335f93c",
   "metadata": {},
   "outputs": [],
   "source": [
    "import structlog\n",
    "log = structlog.get_logger()"
   ]
  },
  {
   "cell_type": "code",
   "execution_count": 29,
   "id": "3f8644ba",
   "metadata": {},
   "outputs": [
    {
     "name": "stdout",
     "output_type": "stream",
     "text": [
      "2025-07-26 16:24:33 [info     ] User uploaded a file           filename=report.pdf user_id=123\n"
     ]
    }
   ],
   "source": [
    "log.info(\"User uploaded a file\", filename = \"report.pdf\", user_id = 123)"
   ]
  },
  {
   "cell_type": "code",
   "execution_count": null,
   "id": "ba92d189",
   "metadata": {},
   "outputs": [],
   "source": [
    "log.error(\"Failed to process file\", filename = \"report.pdf\", user_id = 123, error=\"File not found\")"
   ]
  },
  {
   "cell_type": "code",
   "execution_count": null,
   "id": "da2f1923",
   "metadata": {},
   "outputs": [],
   "source": [
    "[ 2025-07-26 13:34:22,657 ] INFO __main__ (line:5) - {\"user_id\": 123, \"filename\": \"report.pdf\", \"event\": \"User uploaded a file\", \"timestamp\": \"2025-07-26T08:04:22.657768Z\"}\n",
    "[ 2025-07-26 13:34:22,658 ] ERROR __main__ (line:6) - {\"error\": \"File not found\", \"user_id\": 123, \"event\": \"Failed to process PDF\", \"timestamp\": \"2025-07-26T08:04:22.658768Z\"}\n"
   ]
  },
  {
   "cell_type": "markdown",
   "id": "7f82c5b4",
   "metadata": {},
   "source": [
    "AWS Repo(ELK)\n",
    "ECS LOGS\n",
    "Cloud Watch"
   ]
  },
  {
   "cell_type": "code",
   "execution_count": 1,
   "id": "9566ebde",
   "metadata": {},
   "outputs": [],
   "source": [
    "class MyClass:\n",
    "    def __init__(self, name):\n",
    "        self.name = name\n",
    "    \n",
    "    def __str__(self):\n",
    "        return f\"MyClass object with name: {self.name}\"\n",
    "    \n",
    "    def __repr__(self):\n",
    "        return f\"MyClass object with name: {self.name}\""
   ]
  },
  {
   "cell_type": "code",
   "execution_count": 2,
   "id": "f751e859",
   "metadata": {},
   "outputs": [],
   "source": [
    "obj=MyClass(\"sunny\")"
   ]
  },
  {
   "cell_type": "code",
   "execution_count": null,
   "id": "23a77630",
   "metadata": {},
   "outputs": [],
   "source": []
  }
 ],
 "metadata": {
  "kernelspec": {
   "display_name": "llmops_1",
   "language": "python",
   "name": "python3"
  },
  "language_info": {
   "codemirror_mode": {
    "name": "ipython",
    "version": 3
   },
   "file_extension": ".py",
   "mimetype": "text/x-python",
   "name": "python",
   "nbconvert_exporter": "python",
   "pygments_lexer": "ipython3",
   "version": "3.10.18"
  }
 },
 "nbformat": 4,
 "nbformat_minor": 5
}
